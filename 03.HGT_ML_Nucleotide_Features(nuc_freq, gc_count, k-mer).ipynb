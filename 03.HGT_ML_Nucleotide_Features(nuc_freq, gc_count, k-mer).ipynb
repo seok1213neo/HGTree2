{
 "cells": [
  {
   "cell_type": "markdown",
   "id": "4eb4ab20-1a8e-4c38-b36d-faef4b5ad13a",
   "metadata": {},
   "source": [
    "### Nucleotide Frequency & 3-mer composition"
   ]
  },
  {
   "cell_type": "code",
   "execution_count": null,
   "id": "1b7679d9-a7c3-4e9f-8c1e-87c970589302",
   "metadata": {},
   "outputs": [],
   "source": [
    "from Bio import SeqIO\n",
    "from collections import Counter\n",
    "from itertools import product\n",
    "from Bio.SeqUtils import GC\n",
    "import pandas as pd\n",
    "\n",
    "blast_dir = '/disk8/3.YS/20.ML/07.blast/02.blastx_result'\n",
    "\n",
    "def calculate_nucleotide_frequency(sequence):\n",
    "    return Counter(sequence)\n",
    "\n",
    "def initialize_kmer_dict(k):\n",
    "    kmers = [''.join(p) for p in product('ATGC', repeat=k)]\n",
    "    return {kmer: 0 for kmer in kmers}\n",
    "\n",
    "def calculate_kmer_composition(sequence, k):\n",
    "    kmer_counts = initialize_kmer_dict(k)\n",
    "    \n",
    "    actual_kmer_counts = Counter([sequence[i:i+k] for i in range(len(sequence) - k + 1)])\n",
    "    \n",
    "    for kmer, count in actual_kmer_counts.items():\n",
    "        if kmer in kmer_counts:\n",
    "            kmer_counts[kmer] = count\n",
    "\n",
    "    return kmer_counts\n",
    "\n",
    "def calculate_gc_content(sequence):    \n",
    "    return GC(sequence)\n",
    "\n",
    "def check_hgt(gcf, record_id):\n",
    "    try:\n",
    "        df = pd.read_csv(f'{blast_dir}/{gcf}.out', sep='\\t', index_col=None, header=None)\n",
    "        hgt_list = df.iloc[:, 0].tolist()\n",
    "        if record_id in hgt_list:\n",
    "            return 1\n",
    "        else:\n",
    "            return 0\n",
    "    except FileNotFoundError:\n",
    "        print(f\"Warning: File {gcf}.out not found.\")\n",
    "        return 0\n",
    "    \n",
    "def main(cds_file):\n",
    "    gcf = cds_file.split('/')[-1].split(\".\")[0]\n",
    "    for record in SeqIO.parse(cds_file, \"fasta\"):\n",
    "        sequence = str(record.seq)\n",
    "        hgt_boolean = check_hgt(gcf, record.id)\n",
    "        nucleotide_freq = calculate_nucleotide_frequency(sequence)\n",
    "        dinucleotide_freq = calculate_kmer_composition(sequence, 2)  # 2-mer (dinucleotide)\n",
    "        trinucleotide_freq = calculate_kmer_composition(sequence, 3)  # 3-mer (trinucleotide)\n",
    "        gc_content = calculate_gc_content(sequence)\n",
    "\n",
    "        # Output the results for each CDS\n",
    "        print(f\"Results for CDS {record.id}:\")\n",
    "        print(\"Is HGT?: \", hgt_boolean)\n",
    "        print(\"Nucleotide Frequency:\", nucleotide_freq)\n",
    "        print(\"2-mer Frequency:\", dinucleotide_freq)\n",
    "        print(\"3-mer Frequency:\", trinucleotide_freq)\n",
    "        print(f\"GC Content: {gc_content:.2f}%\")\n",
    "        print(\"\\n\")\n",
    "\n",
    "#        with open (f'/disk8/3.YS/20.ML/00.data/nucleotide_info/{gcf}.txt', 'a') as final:\n",
    "#            final.write(record.id+'\\t')\n",
    "#            final.write(str(hgt_boolean) +'\\t')\n",
    "#            final.write(str(nucleotide_freq['A'])+'\\t')\n",
    "#            final.write(str(nucleotide_freq['T'])+'\\t')\n",
    "#            final.write(str(nucleotide_freq['G'])+'\\t')\n",
    "#            final.write(str(nucleotide_freq['C'])+'\\t')\n",
    "#            for two_mer in dinucleotide_freq:\n",
    "#                final.write(str(dinucleotide_freq[two_mer]) +'\\t')\n",
    "#            for three_mer in trinucleotide_freq:\n",
    "#                final.write(str(trinucleotide_freq[three_mer]) +'\\t')\n",
    "#            final.write(str(gc_content) +'\\n')\n",
    "                \n"
   ]
  },
  {
   "cell_type": "code",
   "execution_count": 55,
   "id": "0df16572-36a2-4869-a1a3-3c7346b7de76",
   "metadata": {},
   "outputs": [],
   "source": [
    "import os\n",
    "from multiprocessing import Pool\n",
    "cds_dir = '/disk8/3.YS/20.ML/03.prodigal'\n",
    "cds_files = os.listdir(cds_dir)\n",
    "cds_files = [cds_dir+'/'+a for a in cds_files]"
   ]
  },
  {
   "cell_type": "code",
   "execution_count": 56,
   "id": "0fae2f50-1302-4557-bd89-b0742d546697",
   "metadata": {},
   "outputs": [
    {
     "data": {
      "text/plain": [
       "['/disk8/3.YS/20.ML/03.prodigal/GCF_000513595.CDS',\n",
       " '/disk8/3.YS/20.ML/03.prodigal/GCF_002813775.CDS',\n",
       " '/disk8/3.YS/20.ML/03.prodigal/GCF_014334175.CDS']"
      ]
     },
     "execution_count": 56,
     "metadata": {},
     "output_type": "execute_result"
    }
   ],
   "source": [
    "cds_files[:3]"
   ]
  },
  {
   "cell_type": "code",
   "execution_count": null,
   "id": "e9cc6adc-ec6d-4f1a-b291-7bb93ce84998",
   "metadata": {},
   "outputs": [],
   "source": [
    "if __name__ == \"__main__\":\n",
    "    data = cds_files\n",
    "\n",
    "    with Pool(processes=100) as pool:\n",
    "        pool.map(main, data)"
   ]
  }
 ],
 "metadata": {
  "kernelspec": {
   "display_name": "Python 3",
   "language": "python",
   "name": "python3"
  },
  "language_info": {
   "codemirror_mode": {
    "name": "ipython",
    "version": 3
   },
   "file_extension": ".py",
   "mimetype": "text/x-python",
   "name": "python",
   "nbconvert_exporter": "python",
   "pygments_lexer": "ipython3",
   "version": "3.6.15"
  }
 },
 "nbformat": 4,
 "nbformat_minor": 5
}
