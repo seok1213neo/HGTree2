{
 "cells": [
  {
   "cell_type": "markdown",
   "id": "aa125ba5-4705-41c2-bc40-7ccc5c2bc21f",
   "metadata": {},
   "source": [
    "prodigal -i genome.fasta -d cds.fasta -o annotations.gbk\n",
    "\n",
    "multiprocessing.Pool(processes=None, initializer=None, initargs=())\n",
    "pool.map(func, iterable, chunksize=None)\n",
    "\n",
    "\n",
    "for fasta in fastas:\n",
    "    gcf = fasta.split('.')[0]\n",
    "    command = f\"prodigal -i {nuc_fasta_dir}/{fasta} -d {prodigal_outdir}/{gcf}.CDS -o {gcf}.gbk\"\n",
    "    os.system(command)"
   ]
  },
  {
   "cell_type": "code",
   "execution_count": 1,
   "id": "e095fa23-64a6-469f-a205-8c64049486a8",
   "metadata": {},
   "outputs": [],
   "source": [
    "import os\n",
    "from multiprocessing import Pool"
   ]
  },
  {
   "cell_type": "code",
   "execution_count": 6,
   "id": "014a4637-e4dd-4c30-9e06-733432cf2336",
   "metadata": {},
   "outputs": [],
   "source": [
    "nuc_fasta_dir = '/disk8/3.YS/20.ML/04.nuc_sequences'\n",
    "fastas = os.listdir(nuc_fasta_dir)"
   ]
  },
  {
   "cell_type": "code",
   "execution_count": 9,
   "id": "e1fb1f91-3a58-4d8d-b8ec-787e0ec39ad5",
   "metadata": {},
   "outputs": [],
   "source": [
    "prodigal_outdir = '/disk8/3.YS/20.ML/03.prodigal'\n",
    "gbk_outdir = '/disk8/3.YS/20.ML/03.prodigal/gbk'"
   ]
  },
  {
   "cell_type": "code",
   "execution_count": 10,
   "id": "9466fdd4-3c7b-4183-bc62-35a4f6c15993",
   "metadata": {},
   "outputs": [],
   "source": [
    "def prodigal(fasta):\n",
    "    gcf = fasta.split('.')[0]\n",
    "    command = f\"prodigal -i {nuc_fasta_dir}/{fasta} -d {prodigal_outdir}/{gcf}.CDS -o {gbk_outdir}/{gcf}.gbk > /dev/null 2>&1\"\n",
    "    os.system(command)"
   ]
  },
  {
   "cell_type": "code",
   "execution_count": 11,
   "id": "f873e14a-2aa7-439a-bcc1-843c9b30771b",
   "metadata": {},
   "outputs": [],
   "source": [
    "if __name__ == \"__main__\":\n",
    "    data = fastas\n",
    "\n",
    "    with Pool(processes=12) as pool:\n",
    "        pool.map(prodigal, data)"
   ]
  },
  {
   "cell_type": "markdown",
   "id": "f020f3a7-de86-4d59-807f-d1af25aeef0d",
   "metadata": {},
   "source": [
    "IS element - isescan \n",
    "\n",
    "integron - integron_finder\n",
    "\n",
    "plasmidfinder - plasmid\n",
    "\n",
    "phastaf - phage\n",
    "\n",
    "metaron - operon"
   ]
  },
  {
   "cell_type": "code",
   "execution_count": 5,
   "id": "54d4562d-7584-43a5-a4b3-72e2d7ed1fe9",
   "metadata": {},
   "outputs": [],
   "source": [
    "from Bio import SeqIO\n",
    "\n",
    "genome_fna_path = \"/disk8/3.YS/20.ML/04.nuc_sequences/GCF_000006725.fna\"\n",
    "hgt_fasta_path = \"/disk8/3.YS/20.ML/02.hgt_protein_fasta/GCF_000006725.fasta\"\n"
   ]
  },
  {
   "cell_type": "code",
   "execution_count": 6,
   "id": "58e21c32-e8cf-4420-b93c-f3cb69dcd288",
   "metadata": {},
   "outputs": [
    {
     "data": {
      "text/plain": [
       "{'genome_fna': {'num_sequences': 3,\n",
       "  'first_record': 'NC_002488.3 Xylella fastidiosa 9a5c, complete sequence',\n",
       "  'length': 2679306},\n",
       " 'hgt_fasta': {'num_proteins': 149,\n",
       "  'first_protein': 'WP_010894222',\n",
       "  'length': 167}}"
      ]
     },
     "execution_count": 6,
     "metadata": {},
     "output_type": "execute_result"
    }
   ],
   "source": [
    "genome_records = list(SeqIO.parse(genome_fna_path, \"fasta\"))\n",
    "hgt_protein_records = list(SeqIO.parse(hgt_fasta_path, \"fasta\"))\n",
    "\n",
    "{\n",
    "    \"genome_fna\": {\"num_sequences\": len(genome_records), \"first_record\": genome_records[0].description, \"length\": len(genome_records[0].seq)},\n",
    "    \"hgt_fasta\": {\"num_proteins\": len(hgt_protein_records), \"first_protein\": hgt_protein_records[0].description, \"length\": len(hgt_protein_records[0].seq)}\n",
    "}\n"
   ]
  },
  {
   "cell_type": "code",
   "execution_count": 7,
   "id": "23f6a2c5-eb79-4301-beb1-45ccebf5c81f",
   "metadata": {},
   "outputs": [
    {
     "data": {
      "text/plain": [
       "SeqRecord(seq=Seq('TTTTATGAATGGCTATATGAATAACTCTGGGAAAAATCCGCTCCCAATGATAGT...GAN'), id='NC_002488.3', name='NC_002488.3', description='NC_002488.3 Xylella fastidiosa 9a5c, complete sequence', dbxrefs=[])"
      ]
     },
     "execution_count": 7,
     "metadata": {},
     "output_type": "execute_result"
    }
   ],
   "source": [
    "genome_records[0]"
   ]
  },
  {
   "cell_type": "code",
   "execution_count": 8,
   "id": "81a9534b-26a9-4ea8-a9e9-4190a649694d",
   "metadata": {},
   "outputs": [
    {
     "data": {
      "text/plain": [
       "SeqRecord(seq=Seq('MKKSTPTSPWRRGVLALLVGSFVGLAACAPGSSVAQTPAGASRSPSKDPSMKIR...VEP'), id='WP_010894222', name='WP_010894222', description='WP_010894222', dbxrefs=[])"
      ]
     },
     "execution_count": 8,
     "metadata": {},
     "output_type": "execute_result"
    }
   ],
   "source": [
    "hgt_protein_records[0]"
   ]
  },
  {
   "cell_type": "markdown",
   "id": "76a4f85b-458a-4583-abde-d3875ea07cf0",
   "metadata": {},
   "source": [
    "blastX"
   ]
  },
  {
   "cell_type": "markdown",
   "id": "93f7d772-323f-4af9-879d-a46713a19ce7",
   "metadata": {},
   "source": [
    "diamond makedb --in GCF_000006725.fna -d nucleotide_db\n",
    "diamond blastx -d nucleotide_db -q GCF_000006725.fasta -o diamond_blastx_results.out -f 6"
   ]
  },
  {
   "cell_type": "code",
   "execution_count": 14,
   "id": "31b15fe2-341c-4674-a018-df3e770d0d30",
   "metadata": {},
   "outputs": [],
   "source": [
    "import os\n",
    "from multiprocessing import Pool"
   ]
  },
  {
   "cell_type": "code",
   "execution_count": 15,
   "id": "b550a506-b0ba-4d91-9e40-8086ff93d70c",
   "metadata": {},
   "outputs": [],
   "source": [
    "working_dir = '/disk8/3.YS/20.ML'"
   ]
  },
  {
   "cell_type": "code",
   "execution_count": null,
   "id": "725d02be-3cf6-4eea-aae7-43a2a584430d",
   "metadata": {},
   "outputs": [],
   "source": [
    "#nuc_fasta_dir = f\"{working_dir}/04.nuc_sequences\"\n",
    "#fastas = os.listdir(nuc_fasta_dir)"
   ]
  },
  {
   "cell_type": "code",
   "execution_count": 42,
   "id": "3a2bab4d-d043-4d08-af8b-532e158bf7e3",
   "metadata": {},
   "outputs": [],
   "source": [
    "prodigal_outdir = '/disk8/3.YS/20.ML/03.prodigal'\n",
    "prodigals = os.listdir(prodigal_outdir)"
   ]
  },
  {
   "cell_type": "code",
   "execution_count": 29,
   "id": "5c8c2092-90fe-425f-84f3-7317bebc3223",
   "metadata": {},
   "outputs": [],
   "source": [
    "hgt_protein_dir = f'{working_dir}/02.hgt_protein_fasta'\n",
    "hgt_proteins = os.listdir(hgt_protein_dir)"
   ]
  },
  {
   "cell_type": "code",
   "execution_count": 35,
   "id": "a5db85a9-aa8c-4ba2-8f61-7900ff36287a",
   "metadata": {},
   "outputs": [],
   "source": [
    "#db_output_dir = '/disk8/3.YS/20.ML/07.blast/01.fna_blast_db'\n",
    "db_output_dir = '/disk8/3.YS/20.ML/07.blast/00.hgt_prot_db'"
   ]
  },
  {
   "cell_type": "code",
   "execution_count": 40,
   "id": "c3f4eac6-0c7d-46a8-8826-c3614e30f17d",
   "metadata": {},
   "outputs": [],
   "source": [
    "def make_db(fasta):\n",
    "#for fasta in target:\n",
    "    gcf = fasta.split('.')[0]\n",
    "    command = f\"diamond makedb --in {hgt_protein_dir}/{fasta} -d {db_output_dir}/{gcf} --quiet\"\n",
    "    os.system(command)"
   ]
  },
  {
   "cell_type": "code",
   "execution_count": 41,
   "id": "4d9c4a2a-a705-45f1-b7b4-4d19b391f15a",
   "metadata": {},
   "outputs": [],
   "source": [
    "if __name__ == \"__main__\":\n",
    "    data = hgt_proteins\n",
    "\n",
    "    with Pool(processes=12) as pool:\n",
    "        pool.map(make_db, data)"
   ]
  },
  {
   "cell_type": "code",
   "execution_count": 36,
   "id": "3b1855d1-3efc-4b46-91f9-3e137ffb1745",
   "metadata": {},
   "outputs": [],
   "source": [
    "dbs = os.listdir(db_output_dir)"
   ]
  },
  {
   "cell_type": "code",
   "execution_count": 43,
   "id": "d880eef3-2c24-4fa3-8791-f649d406b0f0",
   "metadata": {},
   "outputs": [],
   "source": [
    "blastX_result = '/disk8/3.YS/20.ML/07.blast/02.blastx_result'"
   ]
  },
  {
   "cell_type": "code",
   "execution_count": 46,
   "id": "82655d33-1725-41bd-acc4-2f1eebd7b343",
   "metadata": {},
   "outputs": [],
   "source": [
    "def blast_X(fasta):\n",
    "#for fasta in hgt_proteins:\n",
    "    gcf = fasta.split('.')[0]\n",
    "    command = f\"diamond blastx -d {db_output_dir}/{gcf}.dmnd -q {prodigal_outdir}/{fasta} -o {blastX_result}/{gcf}.out -f 6 --quiet --threads 2 --id 95 \"\n",
    "    os.system(command)"
   ]
  },
  {
   "cell_type": "code",
   "execution_count": null,
   "id": "19f93357-14d6-41dd-b0a5-ea5959b6ad93",
   "metadata": {},
   "outputs": [],
   "source": [
    "if __name__ == \"__main__\":\n",
    "    data = prodigals\n",
    "\n",
    "    with Pool(processes=12) as pool:\n",
    "        pool.map(blast_X, data)"
   ]
  },
  {
   "cell_type": "markdown",
   "id": "9b2eaca4-ad6f-4105-adfa-ad14d17dc927",
   "metadata": {},
   "source": [
    "parsing hgt CDS sequences"
   ]
  },
  {
   "cell_type": "code",
   "execution_count": 48,
   "id": "0bc62b49-024e-4041-a49d-f9c5482e9e3b",
   "metadata": {},
   "outputs": [],
   "source": [
    "CDS_dir = '/disk8/3.YS/20.ML/03.prodigal'\n",
    "CDS_files = os.listdir(CDS_dir)"
   ]
  },
  {
   "cell_type": "code",
   "execution_count": 49,
   "id": "4b90d463-ec6b-4dce-849e-a1bc8116cc83",
   "metadata": {},
   "outputs": [],
   "source": [
    "blast_dir = '/disk8/3.YS/20.ML/07.blast/02.blastx_result'\n",
    "blast_files = os.listdir(blast_dir)"
   ]
  },
  {
   "cell_type": "code",
   "execution_count": 54,
   "id": "8e22dd5c-65c4-4156-a6e1-2e204a3051c4",
   "metadata": {},
   "outputs": [],
   "source": [
    "hgt_in_gcf = {}\n",
    "\n",
    "for file in blast_files:\n",
    "    gcf = file.split('.')[0]\n",
    "    hgt_in_gcf.setdefault(gcf, [])\n",
    "    with open (f'{blast_dir}/{file}', 'r') as first:\n",
    "        for line in first:\n",
    "            CDS_id = line.split('\\t')[0]\n",
    "            hgt_in_gcf[gcf].append(CDS_id)"
   ]
  },
  {
   "cell_type": "code",
   "execution_count": null,
   "id": "23124f72-c6f2-47e3-b9ba-05b629100e5c",
   "metadata": {},
   "outputs": [
    {
     "name": "stdout",
     "output_type": "stream",
     "text": [
      "K-mers: ['ATG', 'TGC', 'GCG', 'CGT', 'GTA', 'TAC']\n",
      "K-mers as integer indices: [[1, 2, 3, 4, 5, 6]]\n"
     ]
    }
   ],
   "source": [
    "#tokenizing using keras Tokenizer\n",
    "\n",
    "from keras.preprocessing.text import Tokenizer\n",
    "\n",
    "def get_3mers(sequence, k=3):\n",
    "    return [sequence[i:i+k] for i in range(len(sequence) - k + 1)]\n",
    "\n",
    "sequence = \"ATGCGTAC\"\n",
    "kmers = get_3mers(sequence, k=3)\n",
    "print(f\"K-mers: {kmers}\")\n",
    "\n",
    "tokenizer = Tokenizer()\n",
    "tokenizer.fit_on_texts(kmers)\n",
    "\n",
    "kmers_as_int = tokenizer.texts_to_sequences([kmers])\n",
    "print(f\"K-mers as integer indices: {kmers_as_int}\")\n"
   ]
  },
  {
   "cell_type": "code",
   "execution_count": 63,
   "id": "faf0205e-a526-40d2-93d8-9fd6af77d410",
   "metadata": {},
   "outputs": [
    {
     "name": "stdout",
     "output_type": "stream",
     "text": [
      "{'AAA': 1, 'AAT': 2, 'AAG': 3, 'AAC': 4, 'ATA': 5, 'ATT': 6, 'ATG': 7, 'ATC': 8, 'AGA': 9, 'AGT': 10, 'AGG': 11, 'AGC': 12, 'ACA': 13, 'ACT': 14, 'ACG': 15, 'ACC': 16, 'TAA': 17, 'TAT': 18, 'TAG': 19, 'TAC': 20, 'TTA': 21, 'TTT': 22, 'TTG': 23, 'TTC': 24, 'TGA': 25, 'TGT': 26, 'TGG': 27, 'TGC': 28, 'TCA': 29, 'TCT': 30, 'TCG': 31, 'TCC': 32, 'GAA': 33, 'GAT': 34, 'GAG': 35, 'GAC': 36, 'GTA': 37, 'GTT': 38, 'GTG': 39, 'GTC': 40, 'GGA': 41, 'GGT': 42, 'GGG': 43, 'GGC': 44, 'GCA': 45, 'GCT': 46, 'GCG': 47, 'GCC': 48, 'CAA': 49, 'CAT': 50, 'CAG': 51, 'CAC': 52, 'CTA': 53, 'CTT': 54, 'CTG': 55, 'CTC': 56, 'CGA': 57, 'CGT': 58, 'CGG': 59, 'CGC': 60, 'CCA': 61, 'CCT': 62, 'CCG': 63, 'CCC': 64}\n"
     ]
    }
   ],
   "source": [
    "import itertools\n",
    "\n",
    "nucleotides = ['A', 'T', 'G', 'C']\n",
    "\n",
    "all_kmers = [''.join(p) for p in itertools.product(nucleotides, repeat=3)]\n",
    "kmers_to_int = {kmer: i+1 for i, kmer in enumerate(all_kmers)}\n",
    "\n",
    "print(kmers_to_int)\n"
   ]
  },
  {
   "cell_type": "code",
   "execution_count": null,
   "id": "bac2bd15-83e6-434e-81b6-96df465d1ae2",
   "metadata": {},
   "outputs": [
    {
     "name": "stdout",
     "output_type": "stream",
     "text": [
      "Tokenized sequence: [7, 28, 47, 58, 37, 20]\n"
     ]
    }
   ],
   "source": [
    "# predifined 3-mers tokenization\n",
    "def tokenize_sequence(sequence, kmer_dict, k=3):\n",
    "    kmers = [sequence[i:i+k] for i in range(len(sequence) - k + 1)]\n",
    "    tokenized_sequence = [kmer_dict.get(kmer, 0) for kmer in kmers]  # Use 0 for unknown k-mers\n",
    "    return tokenized_sequence\n",
    "\n",
    "# Example sequence\n",
    "sequence = \"ATGCGTAC\"\n",
    "\n",
    "# Tokenize the sequence\n",
    "tokenized_sequence = tokenize_sequence(sequence, kmers_to_int)\n",
    "print(f\"Tokenized sequence: {tokenized_sequence}\")"
   ]
  },
  {
   "cell_type": "code",
   "execution_count": null,
   "id": "538e9b8e-c63e-4144-9d6f-9c03478c20f0",
   "metadata": {},
   "outputs": [
    {
     "name": "stdout",
     "output_type": "stream",
     "text": [
      "Padded sequences: [[ 7 28 47 58 37 20 13 50]\n",
      " [28 45 50  7 28 47 58  0]\n",
      " [58 37 20 15 58 37  0  0]]\n"
     ]
    }
   ],
   "source": [
    "#padding\n",
    "\n",
    "from keras.preprocessing.sequence import pad_sequences\n",
    "\n",
    "tokenized_sequences = [\n",
    "    tokenize_sequence(\"ATGCGTACAT\", kmers_to_int),\n",
    "    tokenize_sequence(\"TGCATGCGT\", kmers_to_int),\n",
    "    tokenize_sequence(\"CGTACGTA\", kmers_to_int)\n",
    "]\n",
    "\n",
    "padded_sequences = pad_sequences(tokenized_sequences, padding='post')\n",
    "print(f\"Padded sequences: {padded_sequences}\")"
   ]
  }
 ],
 "metadata": {
  "kernelspec": {
   "display_name": "Python 3 (ipykernel)",
   "language": "python",
   "name": "python3"
  },
  "language_info": {
   "codemirror_mode": {
    "name": "ipython",
    "version": 3
   },
   "file_extension": ".py",
   "mimetype": "text/x-python",
   "name": "python",
   "nbconvert_exporter": "python",
   "pygments_lexer": "ipython3",
   "version": "3.12.6"
  }
 },
 "nbformat": 4,
 "nbformat_minor": 5
}
